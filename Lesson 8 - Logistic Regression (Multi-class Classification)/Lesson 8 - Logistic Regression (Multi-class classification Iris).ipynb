{
 "cells": [
  {
   "cell_type": "code",
   "execution_count": 59,
   "id": "089bf216",
   "metadata": {},
   "outputs": [
    {
     "name": "stdout",
     "output_type": "stream",
     "text": [
      "   sepal length (cm)  sepal width (cm)  petal length (cm)  petal width (cm)  \\\n",
      "0                5.1               3.5                1.4               0.2   \n",
      "1                4.9               3.0                1.4               0.2   \n",
      "2                4.7               3.2                1.3               0.2   \n",
      "3                4.6               3.1                1.5               0.2   \n",
      "4                5.0               3.6                1.4               0.2   \n",
      "5                5.4               3.9                1.7               0.4   \n",
      "6                4.6               3.4                1.4               0.3   \n",
      "7                5.0               3.4                1.5               0.2   \n",
      "8                4.4               2.9                1.4               0.2   \n",
      "9                4.9               3.1                1.5               0.1   \n",
      "\n",
      "   target  \n",
      "0       0  \n",
      "1       0  \n",
      "2       0  \n",
      "3       0  \n",
      "4       0  \n",
      "5       0  \n",
      "6       0  \n",
      "7       0  \n",
      "8       0  \n",
      "9       0  \n",
      "0    0\n",
      "1    0\n",
      "2    0\n",
      "3    0\n",
      "4    0\n",
      "5    0\n",
      "6    0\n",
      "7    0\n",
      "8    0\n",
      "9    0\n",
      "Name: target, dtype: int32\n",
      "['setosa' 'versicolor' 'virginica']\n"
     ]
    }
   ],
   "source": [
    "%matplotlib inline\n",
    "import matplotlib.pyplot as plt\n",
    "import pandas as pd\n",
    "from sklearn.datasets import load_iris\n",
    "iris = load_iris(as_frame=True)\n",
    "\n",
    "data = iris.data\n",
    "target = iris.target\n",
    "frame = iris.frame\n",
    "\n",
    "print(frame.head(10))\n",
    "print(target.head(10))\n",
    "print(iris.target_names)"
   ]
  },
  {
   "cell_type": "code",
   "execution_count": 78,
   "id": "1bf82abb",
   "metadata": {},
   "outputs": [
    {
     "name": "stdout",
     "output_type": "stream",
     "text": [
      "120\n",
      "30\n"
     ]
    },
    {
     "data": {
      "text/plain": [
       "1.0"
      ]
     },
     "execution_count": 78,
     "metadata": {},
     "output_type": "execute_result"
    }
   ],
   "source": [
    "frame.head()\n",
    "\n",
    "from sklearn.model_selection import train_test_split\n",
    "X_train, X_test, y_train, y_test = train_test_split(frame, target, test_size=0.2)\n",
    "\n",
    "print(len(X_train))\n",
    "print(len(X_test))\n",
    "\n",
    "from sklearn.linear_model import LogisticRegression\n",
    "model = LogisticRegression()\n",
    "model.fit(X_train, y_train)\n",
    "\n",
    "\n",
    "model.score(X_test, y_test)"
   ]
  },
  {
   "cell_type": "code",
   "execution_count": 96,
   "id": "b067e2a6",
   "metadata": {},
   "outputs": [
    {
     "name": "stdout",
     "output_type": "stream",
     "text": [
      "     sepal length (cm)  sepal width (cm)  petal length (cm)  petal width (cm)  \\\n",
      "104                6.5               3.0                5.8               2.2   \n",
      "64                 5.6               2.9                3.6               1.3   \n",
      "85                 6.0               3.4                4.5               1.6   \n",
      "14                 5.8               4.0                1.2               0.2   \n",
      "100                6.3               3.3                6.0               2.5   \n",
      "143                6.8               3.2                5.9               2.3   \n",
      "57                 4.9               2.4                3.3               1.0   \n",
      "114                5.8               2.8                5.1               2.4   \n",
      "86                 6.7               3.1                4.7               1.5   \n",
      "142                5.8               2.7                5.1               1.9   \n",
      "28                 5.2               3.4                1.4               0.2   \n",
      "61                 5.9               3.0                4.2               1.5   \n",
      "32                 5.2               4.1                1.5               0.1   \n",
      "10                 5.4               3.7                1.5               0.2   \n",
      "118                7.7               2.6                6.9               2.3   \n",
      "144                6.7               3.3                5.7               2.5   \n",
      "49                 5.0               3.3                1.4               0.2   \n",
      "132                6.4               2.8                5.6               2.2   \n",
      "37                 4.9               3.6                1.4               0.1   \n",
      "108                6.7               2.5                5.8               1.8   \n",
      "129                7.2               3.0                5.8               1.6   \n",
      "44                 5.1               3.8                1.9               0.4   \n",
      "21                 5.1               3.7                1.5               0.4   \n",
      "30                 4.8               3.1                1.6               0.2   \n",
      "96                 5.7               2.9                4.2               1.3   \n",
      "149                5.9               3.0                5.1               1.8   \n",
      "140                6.7               3.1                5.6               2.4   \n",
      "87                 6.3               2.3                4.4               1.3   \n",
      "26                 5.0               3.4                1.6               0.4   \n",
      "126                6.2               2.8                4.8               1.8   \n",
      "\n",
      "     target  \n",
      "104       2  \n",
      "64        1  \n",
      "85        1  \n",
      "14        0  \n",
      "100       2  \n",
      "143       2  \n",
      "57        1  \n",
      "114       2  \n",
      "86        1  \n",
      "142       2  \n",
      "28        0  \n",
      "61        1  \n",
      "32        0  \n",
      "10        0  \n",
      "118       2  \n",
      "144       2  \n",
      "49        0  \n",
      "132       2  \n",
      "37        0  \n",
      "108       2  \n",
      "129       2  \n",
      "44        0  \n",
      "21        0  \n",
      "30        0  \n",
      "96        1  \n",
      "149       2  \n",
      "140       2  \n",
      "87        1  \n",
      "26        0  \n",
      "126       2  \n",
      "0                         0\n",
      "1                         0\n",
      "2                         0\n",
      "3                         0\n",
      "4                         0\n",
      "                    ...    \n",
      "146                       2\n",
      "147                       2\n",
      "148                       2\n",
      "149                       2\n",
      "labeled_target    virginica\n",
      "Name: target, Length: 151, dtype: object\n"
     ]
    },
    {
     "data": {
      "image/png": "[encoded data removed]",
      "text/plain": [
       "<Figure size 640x480 with 2 Axes>"
      ]
     },
     "metadata": {},
     "output_type": "display_data"
    }
   ],
   "source": [
    "import seaborn \n",
    "from sklearn.metrics import confusion_matrix\n",
    "\n",
    "print(X_test)\n",
    "\n",
    "y_predicted = model.predict(X_test)\n",
    "cm = confusion_matrix(y_test, y_predicted)\n",
    "cm \n",
    "\n",
    "seaborn.heatmap(cm, annot=True)\n",
    "plt.xlabel(\"Predicted\")\n",
    "plt.ylabel(\"Truth\")\n",
    "\n",
    "labeled_target = target\n",
    "print(iris.target)\n",
    "\n"
   ]
  }
 ],
 "metadata": {
  "kernelspec": {
   "display_name": "Python 3 (ipykernel)",
   "language": "python",
   "name": "python3"
  },
  "language_info": {
   "codemirror_mode": {
    "name": "ipython",
    "version": 3
   },
   "file_extension": ".py",
   "mimetype": "text/x-python",
   "name": "python",
   "nbconvert_exporter": "python",
   "pygments_lexer": "ipython3",
   "version": "3.10.9"
  }
 },
 "nbformat": 4,
 "nbformat_minor": 5
}
